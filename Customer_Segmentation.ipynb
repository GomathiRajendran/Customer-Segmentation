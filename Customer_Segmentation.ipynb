{
  "nbformat": 4,
  "nbformat_minor": 0,
  "metadata": {
    "colab": {
      "name": "Customer Segmentation.ipynb",
      "provenance": [],
      "collapsed_sections": [],
      "mount_file_id": "1FeitDzjir4mdBkPL5rCdTZFJEsTA1f2K",
      "authorship_tag": "ABX9TyMfzXx5GthuO+aaWwnvB2sA",
      "include_colab_link": true
    },
    "kernelspec": {
      "name": "python3",
      "display_name": "Python 3"
    },
    "language_info": {
      "name": "python"
    }
  },
  "cells": [
    {
      "cell_type": "markdown",
      "metadata": {
        "id": "view-in-github",
        "colab_type": "text"
      },
      "source": [
        "<a href=\"https://colab.research.google.com/github/GomathiRajendran/Customer-Segmentation/blob/main/Customer_Segmentation.ipynb\" target=\"_parent\"><img src=\"https://colab.research.google.com/assets/colab-badge.svg\" alt=\"Open In Colab\"/></a>"
      ]
    },
    {
      "cell_type": "markdown",
      "metadata": {
        "id": "_XDKTaDO0usT"
      },
      "source": [
        "# 👭 👬 👯 **Customer Segmentation Analysis**"
      ]
    },
    {
      "cell_type": "markdown",
      "metadata": {
        "id": "RL09gmzy708z"
      },
      "source": [
        "### **Customer Segmentation**:\n",
        "Customer segmentation is the practice of dividing a company's customers into groups that reflect similarity among customers in each group. The goal of segmenting customers is to decide how to relate to customers in each segment in order to maximize the value of each customer to the business.\n",
        "\n",
        "### **Data Explanation**:\n",
        "* CustomerID - Unique Identification number for the customers\n",
        "* Gender - Male/Female\n",
        "* Age - Age of the customer\n",
        "* Annual Income - Annual Income of the customer in thousand dollars\n",
        "* Spending Score - Spending score of the customer (1 - 100)\n",
        "\n",
        "### **Approach**:\n",
        "Used both Hierarchial and K-Means Clustering"
      ]
    },
    {
      "cell_type": "markdown",
      "metadata": {
        "id": "IlEoHEbv9qfh"
      },
      "source": [
        "## **Data Description and Exploratory Data Analysis** 📊"
      ]
    },
    {
      "cell_type": "code",
      "metadata": {
        "id": "nulexYg6_r4h"
      },
      "source": [
        "%matplotlib inline\n",
        "\n",
        "import numpy as np\n",
        "import pandas as pd\n",
        "import matplotlib.pyplot as plt\n",
        "import seaborn as sns"
      ],
      "execution_count": 1,
      "outputs": []
    },
    {
      "cell_type": "code",
      "metadata": {
        "id": "tmkfrQj0_3KT"
      },
      "source": [
        "df = pd.read_excel('/content/drive/MyDrive/Customer_Segmentation.xlsx', index_col=0)"
      ],
      "execution_count": 2,
      "outputs": []
    },
    {
      "cell_type": "code",
      "metadata": {
        "colab": {
          "base_uri": "https://localhost:8080/",
          "height": 234
        },
        "id": "vToicnvrACfd",
        "outputId": "cb039c60-862f-4b2f-cab4-9c5a84c73dfb"
      },
      "source": [
        "df.head()"
      ],
      "execution_count": 3,
      "outputs": [
        {
          "output_type": "execute_result",
          "data": {
            "text/html": [
              "<div>\n",
              "<style scoped>\n",
              "    .dataframe tbody tr th:only-of-type {\n",
              "        vertical-align: middle;\n",
              "    }\n",
              "\n",
              "    .dataframe tbody tr th {\n",
              "        vertical-align: top;\n",
              "    }\n",
              "\n",
              "    .dataframe thead th {\n",
              "        text-align: right;\n",
              "    }\n",
              "</style>\n",
              "<table border=\"1\" class=\"dataframe\">\n",
              "  <thead>\n",
              "    <tr style=\"text-align: right;\">\n",
              "      <th></th>\n",
              "      <th>Gender</th>\n",
              "      <th>Age</th>\n",
              "      <th>Annual Income (k$)</th>\n",
              "      <th>Spending Score (1-100)</th>\n",
              "    </tr>\n",
              "    <tr>\n",
              "      <th>CustomerID</th>\n",
              "      <th></th>\n",
              "      <th></th>\n",
              "      <th></th>\n",
              "      <th></th>\n",
              "    </tr>\n",
              "  </thead>\n",
              "  <tbody>\n",
              "    <tr>\n",
              "      <th>1</th>\n",
              "      <td>Male</td>\n",
              "      <td>19</td>\n",
              "      <td>15</td>\n",
              "      <td>39</td>\n",
              "    </tr>\n",
              "    <tr>\n",
              "      <th>2</th>\n",
              "      <td>Male</td>\n",
              "      <td>21</td>\n",
              "      <td>15</td>\n",
              "      <td>81</td>\n",
              "    </tr>\n",
              "    <tr>\n",
              "      <th>3</th>\n",
              "      <td>Female</td>\n",
              "      <td>20</td>\n",
              "      <td>16</td>\n",
              "      <td>6</td>\n",
              "    </tr>\n",
              "    <tr>\n",
              "      <th>4</th>\n",
              "      <td>Female</td>\n",
              "      <td>23</td>\n",
              "      <td>16</td>\n",
              "      <td>77</td>\n",
              "    </tr>\n",
              "    <tr>\n",
              "      <th>5</th>\n",
              "      <td>Female</td>\n",
              "      <td>31</td>\n",
              "      <td>17</td>\n",
              "      <td>40</td>\n",
              "    </tr>\n",
              "  </tbody>\n",
              "</table>\n",
              "</div>"
            ],
            "text/plain": [
              "            Gender  Age  Annual Income (k$)  Spending Score (1-100)\n",
              "CustomerID                                                         \n",
              "1             Male   19                  15                      39\n",
              "2             Male   21                  15                      81\n",
              "3           Female   20                  16                       6\n",
              "4           Female   23                  16                      77\n",
              "5           Female   31                  17                      40"
            ]
          },
          "metadata": {},
          "execution_count": 3
        }
      ]
    },
    {
      "cell_type": "code",
      "metadata": {
        "id": "xpzOaMWLAFvo"
      },
      "source": [
        "# Let's rename the columns for easy usage\n",
        "df.rename(columns={\"Annual Income (k$)\": \"Income\", \"Spending Score (1-100)\": \"Score\"}, inplace=True)"
      ],
      "execution_count": 4,
      "outputs": []
    },
    {
      "cell_type": "code",
      "metadata": {
        "colab": {
          "base_uri": "https://localhost:8080/",
          "height": 234
        },
        "id": "bPsAd1rNApdQ",
        "outputId": "4c66921a-60bc-4e28-b74c-53a70949bcbe"
      },
      "source": [
        "df.head()"
      ],
      "execution_count": 5,
      "outputs": [
        {
          "output_type": "execute_result",
          "data": {
            "text/html": [
              "<div>\n",
              "<style scoped>\n",
              "    .dataframe tbody tr th:only-of-type {\n",
              "        vertical-align: middle;\n",
              "    }\n",
              "\n",
              "    .dataframe tbody tr th {\n",
              "        vertical-align: top;\n",
              "    }\n",
              "\n",
              "    .dataframe thead th {\n",
              "        text-align: right;\n",
              "    }\n",
              "</style>\n",
              "<table border=\"1\" class=\"dataframe\">\n",
              "  <thead>\n",
              "    <tr style=\"text-align: right;\">\n",
              "      <th></th>\n",
              "      <th>Gender</th>\n",
              "      <th>Age</th>\n",
              "      <th>Income</th>\n",
              "      <th>Score</th>\n",
              "    </tr>\n",
              "    <tr>\n",
              "      <th>CustomerID</th>\n",
              "      <th></th>\n",
              "      <th></th>\n",
              "      <th></th>\n",
              "      <th></th>\n",
              "    </tr>\n",
              "  </thead>\n",
              "  <tbody>\n",
              "    <tr>\n",
              "      <th>1</th>\n",
              "      <td>Male</td>\n",
              "      <td>19</td>\n",
              "      <td>15</td>\n",
              "      <td>39</td>\n",
              "    </tr>\n",
              "    <tr>\n",
              "      <th>2</th>\n",
              "      <td>Male</td>\n",
              "      <td>21</td>\n",
              "      <td>15</td>\n",
              "      <td>81</td>\n",
              "    </tr>\n",
              "    <tr>\n",
              "      <th>3</th>\n",
              "      <td>Female</td>\n",
              "      <td>20</td>\n",
              "      <td>16</td>\n",
              "      <td>6</td>\n",
              "    </tr>\n",
              "    <tr>\n",
              "      <th>4</th>\n",
              "      <td>Female</td>\n",
              "      <td>23</td>\n",
              "      <td>16</td>\n",
              "      <td>77</td>\n",
              "    </tr>\n",
              "    <tr>\n",
              "      <th>5</th>\n",
              "      <td>Female</td>\n",
              "      <td>31</td>\n",
              "      <td>17</td>\n",
              "      <td>40</td>\n",
              "    </tr>\n",
              "  </tbody>\n",
              "</table>\n",
              "</div>"
            ],
            "text/plain": [
              "            Gender  Age  Income  Score\n",
              "CustomerID                            \n",
              "1             Male   19      15     39\n",
              "2             Male   21      15     81\n",
              "3           Female   20      16      6\n",
              "4           Female   23      16     77\n",
              "5           Female   31      17     40"
            ]
          },
          "metadata": {},
          "execution_count": 5
        }
      ]
    },
    {
      "cell_type": "code",
      "metadata": {
        "colab": {
          "base_uri": "https://localhost:8080/"
        },
        "id": "yeUE9fibArR9",
        "outputId": "308f9fd0-add2-4bff-ccd5-c18a9cbe3d14"
      },
      "source": [
        "df.shape"
      ],
      "execution_count": 6,
      "outputs": [
        {
          "output_type": "execute_result",
          "data": {
            "text/plain": [
              "(200, 4)"
            ]
          },
          "metadata": {},
          "execution_count": 6
        }
      ]
    },
    {
      "cell_type": "markdown",
      "metadata": {
        "id": "NF-oNlCeAzoO"
      },
      "source": [
        "#### It has 200 records and 4 columns"
      ]
    },
    {
      "cell_type": "code",
      "metadata": {
        "colab": {
          "base_uri": "https://localhost:8080/"
        },
        "id": "riYIEl6mBAh3",
        "outputId": "055be5e5-e0f0-4169-a4f5-6c684798dac7"
      },
      "source": [
        "df.info()"
      ],
      "execution_count": 7,
      "outputs": [
        {
          "output_type": "stream",
          "text": [
            "<class 'pandas.core.frame.DataFrame'>\n",
            "Int64Index: 200 entries, 1 to 200\n",
            "Data columns (total 4 columns):\n",
            " #   Column  Non-Null Count  Dtype \n",
            "---  ------  --------------  ----- \n",
            " 0   Gender  200 non-null    object\n",
            " 1   Age     200 non-null    int64 \n",
            " 2   Income  200 non-null    int64 \n",
            " 3   Score   200 non-null    int64 \n",
            "dtypes: int64(3), object(1)\n",
            "memory usage: 7.8+ KB\n"
          ],
          "name": "stdout"
        }
      ]
    },
    {
      "cell_type": "code",
      "metadata": {
        "colab": {
          "base_uri": "https://localhost:8080/"
        },
        "id": "Mh0bir4IBXG0",
        "outputId": "de65ad07-c3d2-4440-b0dc-d5077c173597"
      },
      "source": [
        "df.isnull().sum()"
      ],
      "execution_count": 8,
      "outputs": [
        {
          "output_type": "execute_result",
          "data": {
            "text/plain": [
              "Gender    0\n",
              "Age       0\n",
              "Income    0\n",
              "Score     0\n",
              "dtype: int64"
            ]
          },
          "metadata": {},
          "execution_count": 8
        }
      ]
    },
    {
      "cell_type": "markdown",
      "metadata": {
        "id": "6EVsVbsgBDP1"
      },
      "source": [
        "#### No missing values"
      ]
    },
    {
      "cell_type": "code",
      "metadata": {
        "colab": {
          "base_uri": "https://localhost:8080/"
        },
        "id": "RUsJzM9WCBZU",
        "outputId": "cb668fb8-e74d-433b-d73a-e911a03a957b"
      },
      "source": [
        "df.duplicated().sum()"
      ],
      "execution_count": 9,
      "outputs": [
        {
          "output_type": "execute_result",
          "data": {
            "text/plain": [
              "0"
            ]
          },
          "metadata": {},
          "execution_count": 9
        }
      ]
    },
    {
      "cell_type": "markdown",
      "metadata": {
        "id": "zZqf02iQCE7l"
      },
      "source": [
        "#### No dupicate records found"
      ]
    },
    {
      "cell_type": "markdown",
      "metadata": {
        "id": "wgDOILdQCRfF"
      },
      "source": [
        "### **Univariate Analysis**"
      ]
    },
    {
      "cell_type": "code",
      "metadata": {
        "colab": {
          "base_uri": "https://localhost:8080/",
          "height": 295
        },
        "id": "WDkctktFBJKv",
        "outputId": "09b8c85c-69a4-421b-a852-0f0627c577ad"
      },
      "source": [
        "df.describe()"
      ],
      "execution_count": 10,
      "outputs": [
        {
          "output_type": "execute_result",
          "data": {
            "text/html": [
              "<div>\n",
              "<style scoped>\n",
              "    .dataframe tbody tr th:only-of-type {\n",
              "        vertical-align: middle;\n",
              "    }\n",
              "\n",
              "    .dataframe tbody tr th {\n",
              "        vertical-align: top;\n",
              "    }\n",
              "\n",
              "    .dataframe thead th {\n",
              "        text-align: right;\n",
              "    }\n",
              "</style>\n",
              "<table border=\"1\" class=\"dataframe\">\n",
              "  <thead>\n",
              "    <tr style=\"text-align: right;\">\n",
              "      <th></th>\n",
              "      <th>Age</th>\n",
              "      <th>Income</th>\n",
              "      <th>Score</th>\n",
              "    </tr>\n",
              "  </thead>\n",
              "  <tbody>\n",
              "    <tr>\n",
              "      <th>count</th>\n",
              "      <td>200.000000</td>\n",
              "      <td>200.000000</td>\n",
              "      <td>200.000000</td>\n",
              "    </tr>\n",
              "    <tr>\n",
              "      <th>mean</th>\n",
              "      <td>38.850000</td>\n",
              "      <td>60.560000</td>\n",
              "      <td>50.200000</td>\n",
              "    </tr>\n",
              "    <tr>\n",
              "      <th>std</th>\n",
              "      <td>13.969007</td>\n",
              "      <td>26.264721</td>\n",
              "      <td>25.823522</td>\n",
              "    </tr>\n",
              "    <tr>\n",
              "      <th>min</th>\n",
              "      <td>18.000000</td>\n",
              "      <td>15.000000</td>\n",
              "      <td>1.000000</td>\n",
              "    </tr>\n",
              "    <tr>\n",
              "      <th>25%</th>\n",
              "      <td>28.750000</td>\n",
              "      <td>41.500000</td>\n",
              "      <td>34.750000</td>\n",
              "    </tr>\n",
              "    <tr>\n",
              "      <th>50%</th>\n",
              "      <td>36.000000</td>\n",
              "      <td>61.500000</td>\n",
              "      <td>50.000000</td>\n",
              "    </tr>\n",
              "    <tr>\n",
              "      <th>75%</th>\n",
              "      <td>49.000000</td>\n",
              "      <td>78.000000</td>\n",
              "      <td>73.000000</td>\n",
              "    </tr>\n",
              "    <tr>\n",
              "      <th>max</th>\n",
              "      <td>70.000000</td>\n",
              "      <td>137.000000</td>\n",
              "      <td>99.000000</td>\n",
              "    </tr>\n",
              "  </tbody>\n",
              "</table>\n",
              "</div>"
            ],
            "text/plain": [
              "              Age      Income       Score\n",
              "count  200.000000  200.000000  200.000000\n",
              "mean    38.850000   60.560000   50.200000\n",
              "std     13.969007   26.264721   25.823522\n",
              "min     18.000000   15.000000    1.000000\n",
              "25%     28.750000   41.500000   34.750000\n",
              "50%     36.000000   61.500000   50.000000\n",
              "75%     49.000000   78.000000   73.000000\n",
              "max     70.000000  137.000000   99.000000"
            ]
          },
          "metadata": {},
          "execution_count": 10
        }
      ]
    },
    {
      "cell_type": "code",
      "metadata": {
        "colab": {
          "base_uri": "https://localhost:8080/",
          "height": 388
        },
        "id": "eOC_MviVBMMW",
        "outputId": "732eab95-3661-4571-fe6b-73cabdbf6cff"
      },
      "source": [
        "df.describe(include='all')"
      ],
      "execution_count": 11,
      "outputs": [
        {
          "output_type": "execute_result",
          "data": {
            "text/html": [
              "<div>\n",
              "<style scoped>\n",
              "    .dataframe tbody tr th:only-of-type {\n",
              "        vertical-align: middle;\n",
              "    }\n",
              "\n",
              "    .dataframe tbody tr th {\n",
              "        vertical-align: top;\n",
              "    }\n",
              "\n",
              "    .dataframe thead th {\n",
              "        text-align: right;\n",
              "    }\n",
              "</style>\n",
              "<table border=\"1\" class=\"dataframe\">\n",
              "  <thead>\n",
              "    <tr style=\"text-align: right;\">\n",
              "      <th></th>\n",
              "      <th>Gender</th>\n",
              "      <th>Age</th>\n",
              "      <th>Income</th>\n",
              "      <th>Score</th>\n",
              "    </tr>\n",
              "  </thead>\n",
              "  <tbody>\n",
              "    <tr>\n",
              "      <th>count</th>\n",
              "      <td>200</td>\n",
              "      <td>200.000000</td>\n",
              "      <td>200.000000</td>\n",
              "      <td>200.000000</td>\n",
              "    </tr>\n",
              "    <tr>\n",
              "      <th>unique</th>\n",
              "      <td>2</td>\n",
              "      <td>NaN</td>\n",
              "      <td>NaN</td>\n",
              "      <td>NaN</td>\n",
              "    </tr>\n",
              "    <tr>\n",
              "      <th>top</th>\n",
              "      <td>Female</td>\n",
              "      <td>NaN</td>\n",
              "      <td>NaN</td>\n",
              "      <td>NaN</td>\n",
              "    </tr>\n",
              "    <tr>\n",
              "      <th>freq</th>\n",
              "      <td>112</td>\n",
              "      <td>NaN</td>\n",
              "      <td>NaN</td>\n",
              "      <td>NaN</td>\n",
              "    </tr>\n",
              "    <tr>\n",
              "      <th>mean</th>\n",
              "      <td>NaN</td>\n",
              "      <td>38.850000</td>\n",
              "      <td>60.560000</td>\n",
              "      <td>50.200000</td>\n",
              "    </tr>\n",
              "    <tr>\n",
              "      <th>std</th>\n",
              "      <td>NaN</td>\n",
              "      <td>13.969007</td>\n",
              "      <td>26.264721</td>\n",
              "      <td>25.823522</td>\n",
              "    </tr>\n",
              "    <tr>\n",
              "      <th>min</th>\n",
              "      <td>NaN</td>\n",
              "      <td>18.000000</td>\n",
              "      <td>15.000000</td>\n",
              "      <td>1.000000</td>\n",
              "    </tr>\n",
              "    <tr>\n",
              "      <th>25%</th>\n",
              "      <td>NaN</td>\n",
              "      <td>28.750000</td>\n",
              "      <td>41.500000</td>\n",
              "      <td>34.750000</td>\n",
              "    </tr>\n",
              "    <tr>\n",
              "      <th>50%</th>\n",
              "      <td>NaN</td>\n",
              "      <td>36.000000</td>\n",
              "      <td>61.500000</td>\n",
              "      <td>50.000000</td>\n",
              "    </tr>\n",
              "    <tr>\n",
              "      <th>75%</th>\n",
              "      <td>NaN</td>\n",
              "      <td>49.000000</td>\n",
              "      <td>78.000000</td>\n",
              "      <td>73.000000</td>\n",
              "    </tr>\n",
              "    <tr>\n",
              "      <th>max</th>\n",
              "      <td>NaN</td>\n",
              "      <td>70.000000</td>\n",
              "      <td>137.000000</td>\n",
              "      <td>99.000000</td>\n",
              "    </tr>\n",
              "  </tbody>\n",
              "</table>\n",
              "</div>"
            ],
            "text/plain": [
              "        Gender         Age      Income       Score\n",
              "count      200  200.000000  200.000000  200.000000\n",
              "unique       2         NaN         NaN         NaN\n",
              "top     Female         NaN         NaN         NaN\n",
              "freq       112         NaN         NaN         NaN\n",
              "mean       NaN   38.850000   60.560000   50.200000\n",
              "std        NaN   13.969007   26.264721   25.823522\n",
              "min        NaN   18.000000   15.000000    1.000000\n",
              "25%        NaN   28.750000   41.500000   34.750000\n",
              "50%        NaN   36.000000   61.500000   50.000000\n",
              "75%        NaN   49.000000   78.000000   73.000000\n",
              "max        NaN   70.000000  137.000000   99.000000"
            ]
          },
          "metadata": {},
          "execution_count": 11
        }
      ]
    },
    {
      "cell_type": "code",
      "metadata": {
        "id": "vL2ZIagFCwPZ"
      },
      "source": [
        "import warnings\n",
        "warnings.filterwarnings('ignore')"
      ],
      "execution_count": 12,
      "outputs": []
    },
    {
      "cell_type": "code",
      "metadata": {
        "colab": {
          "base_uri": "https://localhost:8080/",
          "height": 350
        },
        "id": "thdP8TwNBhKN",
        "outputId": "36475a2d-8984-41eb-b3ec-61a904ac344b"
      },
      "source": [
        "fig, axes = plt.subplots(1,2,figsize=(10,5))\n",
        "a = sns.distplot(df['Age'] , ax=axes[0])\n",
        "a.set_title(\"Distribution of Age\",fontsize=13)\n",
        "a = sns.boxplot(df['Age'] , orient = \"v\" , ax=axes[1])\n",
        "a.set_title(\"Distribution of Age\",fontsize=13);"
      ],
      "execution_count": 13,
      "outputs": [
        {
          "output_type": "display_data",
          "data": {
            "image/png": "[encoded data removed]",
            "text/plain": [
              "<Figure size 720x360 with 2 Axes>"
            ]
          },
          "metadata": {
            "needs_background": "light"
          }
        }
      ]
    },
    {
      "cell_type": "code",
      "metadata": {
        "colab": {
          "base_uri": "https://localhost:8080/"
        },
        "id": "f38Zg6XECmqD",
        "outputId": "b4855f78-f261-46ca-aa20-0adccf53b524"
      },
      "source": [
        "from scipy.stats import skew\n",
        "print(\"The feature 'Age' has skewness of about\",skew(df['Age']))"
      ],
      "execution_count": 14,
      "outputs": [
        {
          "output_type": "stream",
          "text": [
            "The feature 'Age' has skewness of about 0.48191947090957177\n"
          ],
          "name": "stdout"
        }
      ]
    },
    {
      "cell_type": "code",
      "metadata": {
        "colab": {
          "base_uri": "https://localhost:8080/",
          "height": 350
        },
        "id": "43c3_jKRDPc5",
        "outputId": "fc636860-459d-4760-87ee-96ddf7b41e14"
      },
      "source": [
        "fig, axes = plt.subplots(1,2,figsize=(10,5))\n",
        "a = sns.distplot(df['Income'] , ax=axes[0])\n",
        "a.set_title(\"Distribution of Income\",fontsize=13)\n",
        "a = sns.boxplot(df['Income'] , ax=axes[1])\n",
        "a.set_title(\"Distribution of Income\",fontsize=13);"
      ],
      "execution_count": 15,
      "outputs": [
        {
          "output_type": "display_data",
          "data": {
            "image/png": "[encoded data removed]",
            "text/plain": [
              "<Figure size 720x360 with 2 Axes>"
            ]
          },
          "metadata": {
            "needs_background": "light"
          }
        }
      ]
    },
    {
      "cell_type": "code",
      "metadata": {
        "colab": {
          "base_uri": "https://localhost:8080/"
        },
        "id": "L7sjmsIyDhlx",
        "outputId": "5b718078-1121-41a9-e81f-7fbe70e48683"
      },
      "source": [
        "print(\"The feature 'Income' has skewness of about\",skew(df['Income']))"
      ],
      "execution_count": 16,
      "outputs": [
        {
          "output_type": "stream",
          "text": [
            "The feature 'Income' has skewness of about 0.319423684276314\n"
          ],
          "name": "stdout"
        }
      ]
    },
    {
      "cell_type": "code",
      "metadata": {
        "colab": {
          "base_uri": "https://localhost:8080/",
          "height": 350
        },
        "id": "oYu8MvGdDqXS",
        "outputId": "3d37bc49-5136-4df5-81cb-493c9a6fe493"
      },
      "source": [
        "fig, axes = plt.subplots(1,2,figsize=(10,5))\n",
        "a = sns.distplot(df['Score'] , ax=axes[0])\n",
        "a.set_title(\"Distribution of Score\",fontsize=13)\n",
        "a = sns.boxplot(df['Score'] , ax=axes[1])\n",
        "a.set_title(\"Distribution of Score\",fontsize=13);"
      ],
      "execution_count": 17,
      "outputs": [
        {
          "output_type": "display_data",
          "data": {
            "image/png": "[encoded data removed]",
            "text/plain": [
              "<Figure size 720x360 with 2 Axes>"
            ]
          },
          "metadata": {
            "needs_background": "light"
          }
        }
      ]
    },
    {
      "cell_type": "code",
      "metadata": {
        "colab": {
          "base_uri": "https://localhost:8080/"
        },
        "id": "YA3gkkiMD2gO",
        "outputId": "d59cb420-7fe3-48b9-8d20-c8be5b890b0a"
      },
      "source": [
        "print(\"The feature 'Score' has skewness of about\",skew(df['Score']))"
      ],
      "execution_count": 18,
      "outputs": [
        {
          "output_type": "stream",
          "text": [
            "The feature 'Score' has skewness of about -0.04686530945553505\n"
          ],
          "name": "stdout"
        }
      ]
    },
    {
      "cell_type": "markdown",
      "metadata": {
        "id": "EYDBn0uWD7at"
      },
      "source": [
        "From the boxplots and distribution plot, we can infer that all the features are skewed (either positively or negatively). Also there are no outliers except for features such as \"Income\". We don't do any outlier treatment as we gonna anyway scale the data."
      ]
    },
    {
      "cell_type": "code",
      "metadata": {
        "colab": {
          "base_uri": "https://localhost:8080/",
          "height": 279
        },
        "id": "QH_JRcIoHNYC",
        "outputId": "b8496507-4dde-469f-b151-19faf23368e0"
      },
      "source": [
        "# distribution of categorical variable\n",
        "sns.countplot(x='Gender', data=df);"
      ],
      "execution_count": 19,
      "outputs": [
        {
          "output_type": "display_data",
          "data": {
            "image/png": "[encoded data removed]",
            "text/plain": [
              "<Figure size 432x288 with 1 Axes>"
            ]
          },
          "metadata": {
            "needs_background": "light"
          }
        }
      ]
    },
    {
      "cell_type": "code",
      "metadata": {
        "colab": {
          "base_uri": "https://localhost:8080/"
        },
        "id": "OVRcI1t_HUEC",
        "outputId": "73aed830-d032-4fa9-84dd-322302e9070b"
      },
      "source": [
        "df['Gender'].value_counts()"
      ],
      "execution_count": 20,
      "outputs": [
        {
          "output_type": "execute_result",
          "data": {
            "text/plain": [
              "Female    112\n",
              "Male       88\n",
              "Name: Gender, dtype: int64"
            ]
          },
          "metadata": {},
          "execution_count": 20
        }
      ]
    },
    {
      "cell_type": "markdown",
      "metadata": {
        "id": "DoxMRW_lFwU2"
      },
      "source": [
        "### **Bivariate and Multivariate Analysis**"
      ]
    },
    {
      "cell_type": "code",
      "metadata": {
        "colab": {
          "base_uri": "https://localhost:8080/",
          "height": 550
        },
        "id": "HQcNsn3JGGTi",
        "outputId": "8b41bc3f-525c-4254-8bb3-d01e5048f105"
      },
      "source": [
        "sns.pairplot(data=df,diag_kind='kde', hue='Gender');"
      ],
      "execution_count": 21,
      "outputs": [
        {
          "output_type": "display_data",
          "data": {
            "image/png": "[encoded data removed]",
            "text/plain": [
              "<Figure size 612.125x540 with 12 Axes>"
            ]
          },
          "metadata": {
            "needs_background": "light"
          }
        }
      ]
    },
    {
      "cell_type": "code",
      "metadata": {
        "colab": {
          "base_uri": "https://localhost:8080/",
          "height": 142
        },
        "id": "QZ-on4IAGKki",
        "outputId": "63de9e7f-5f78-43b7-d510-18eebb69c8f1"
      },
      "source": [
        "df.corr()"
      ],
      "execution_count": 22,
      "outputs": [
        {
          "output_type": "execute_result",
          "data": {
            "text/html": [
              "<div>\n",
              "<style scoped>\n",
              "    .dataframe tbody tr th:only-of-type {\n",
              "        vertical-align: middle;\n",
              "    }\n",
              "\n",
              "    .dataframe tbody tr th {\n",
              "        vertical-align: top;\n",
              "    }\n",
              "\n",
              "    .dataframe thead th {\n",
              "        text-align: right;\n",
              "    }\n",
              "</style>\n",
              "<table border=\"1\" class=\"dataframe\">\n",
              "  <thead>\n",
              "    <tr style=\"text-align: right;\">\n",
              "      <th></th>\n",
              "      <th>Age</th>\n",
              "      <th>Income</th>\n",
              "      <th>Score</th>\n",
              "    </tr>\n",
              "  </thead>\n",
              "  <tbody>\n",
              "    <tr>\n",
              "      <th>Age</th>\n",
              "      <td>1.000000</td>\n",
              "      <td>-0.012398</td>\n",
              "      <td>-0.327227</td>\n",
              "    </tr>\n",
              "    <tr>\n",
              "      <th>Income</th>\n",
              "      <td>-0.012398</td>\n",
              "      <td>1.000000</td>\n",
              "      <td>0.009903</td>\n",
              "    </tr>\n",
              "    <tr>\n",
              "      <th>Score</th>\n",
              "      <td>-0.327227</td>\n",
              "      <td>0.009903</td>\n",
              "      <td>1.000000</td>\n",
              "    </tr>\n",
              "  </tbody>\n",
              "</table>\n",
              "</div>"
            ],
            "text/plain": [
              "             Age    Income     Score\n",
              "Age     1.000000 -0.012398 -0.327227\n",
              "Income -0.012398  1.000000  0.009903\n",
              "Score  -0.327227  0.009903  1.000000"
            ]
          },
          "metadata": {},
          "execution_count": 22
        }
      ]
    },
    {
      "cell_type": "code",
      "metadata": {
        "colab": {
          "base_uri": "https://localhost:8080/",
          "height": 378
        },
        "id": "yTiSp2ZFGTcw",
        "outputId": "02a84bab-a1e0-4396-9222-7a88f0ac4ef5"
      },
      "source": [
        "fig,ax = plt.subplots(figsize=(8,6))\n",
        "sns.heatmap(df.corr(),annot=True, cmap=\"Blues\", ax=ax);"
      ],
      "execution_count": 23,
      "outputs": [
        {
          "output_type": "display_data",
          "data": {
            "image/png": "[encoded data removed]",
            "text/plain": [
              "<Figure size 576x432 with 2 Axes>"
            ]
          },
          "metadata": {
            "needs_background": "light"
          }
        }
      ]
    },
    {
      "cell_type": "markdown",
      "metadata": {
        "id": "STlMvkNGjcml"
      },
      "source": [
        "### **Feature Engineering**"
      ]
    },
    {
      "cell_type": "code",
      "metadata": {
        "colab": {
          "base_uri": "https://localhost:8080/",
          "height": 203
        },
        "id": "yiGf43_CIE3E",
        "outputId": "7cefe787-503c-490e-b39d-82aa8f06cd23"
      },
      "source": [
        "df = pd.get_dummies(df).reset_index(drop=True)\n",
        "df.head()"
      ],
      "execution_count": 24,
      "outputs": [
        {
          "output_type": "execute_result",
          "data": {
            "text/html": [
              "<div>\n",
              "<style scoped>\n",
              "    .dataframe tbody tr th:only-of-type {\n",
              "        vertical-align: middle;\n",
              "    }\n",
              "\n",
              "    .dataframe tbody tr th {\n",
              "        vertical-align: top;\n",
              "    }\n",
              "\n",
              "    .dataframe thead th {\n",
              "        text-align: right;\n",
              "    }\n",
              "</style>\n",
              "<table border=\"1\" class=\"dataframe\">\n",
              "  <thead>\n",
              "    <tr style=\"text-align: right;\">\n",
              "      <th></th>\n",
              "      <th>Age</th>\n",
              "      <th>Income</th>\n",
              "      <th>Score</th>\n",
              "      <th>Gender_Female</th>\n",
              "      <th>Gender_Male</th>\n",
              "    </tr>\n",
              "  </thead>\n",
              "  <tbody>\n",
              "    <tr>\n",
              "      <th>0</th>\n",
              "      <td>19</td>\n",
              "      <td>15</td>\n",
              "      <td>39</td>\n",
              "      <td>0</td>\n",
              "      <td>1</td>\n",
              "    </tr>\n",
              "    <tr>\n",
              "      <th>1</th>\n",
              "      <td>21</td>\n",
              "      <td>15</td>\n",
              "      <td>81</td>\n",
              "      <td>0</td>\n",
              "      <td>1</td>\n",
              "    </tr>\n",
              "    <tr>\n",
              "      <th>2</th>\n",
              "      <td>20</td>\n",
              "      <td>16</td>\n",
              "      <td>6</td>\n",
              "      <td>1</td>\n",
              "      <td>0</td>\n",
              "    </tr>\n",
              "    <tr>\n",
              "      <th>3</th>\n",
              "      <td>23</td>\n",
              "      <td>16</td>\n",
              "      <td>77</td>\n",
              "      <td>1</td>\n",
              "      <td>0</td>\n",
              "    </tr>\n",
              "    <tr>\n",
              "      <th>4</th>\n",
              "      <td>31</td>\n",
              "      <td>17</td>\n",
              "      <td>40</td>\n",
              "      <td>1</td>\n",
              "      <td>0</td>\n",
              "    </tr>\n",
              "  </tbody>\n",
              "</table>\n",
              "</div>"
            ],
            "text/plain": [
              "   Age  Income  Score  Gender_Female  Gender_Male\n",
              "0   19      15     39              0            1\n",
              "1   21      15     81              0            1\n",
              "2   20      16      6              1            0\n",
              "3   23      16     77              1            0\n",
              "4   31      17     40              1            0"
            ]
          },
          "metadata": {},
          "execution_count": 24
        }
      ]
    },
    {
      "cell_type": "code",
      "metadata": {
        "id": "OUjtCO1MIkz1"
      },
      "source": [
        "df.drop('Gender_Male', axis=1, inplace=True)"
      ],
      "execution_count": 25,
      "outputs": []
    },
    {
      "cell_type": "code",
      "metadata": {
        "colab": {
          "base_uri": "https://localhost:8080/",
          "height": 203
        },
        "id": "fDHXmid_I5Fe",
        "outputId": "761bbf2c-fcea-40ae-8711-1e8031dc8ec1"
      },
      "source": [
        "df.head()"
      ],
      "execution_count": 26,
      "outputs": [
        {
          "output_type": "execute_result",
          "data": {
            "text/html": [
              "<div>\n",
              "<style scoped>\n",
              "    .dataframe tbody tr th:only-of-type {\n",
              "        vertical-align: middle;\n",
              "    }\n",
              "\n",
              "    .dataframe tbody tr th {\n",
              "        vertical-align: top;\n",
              "    }\n",
              "\n",
              "    .dataframe thead th {\n",
              "        text-align: right;\n",
              "    }\n",
              "</style>\n",
              "<table border=\"1\" class=\"dataframe\">\n",
              "  <thead>\n",
              "    <tr style=\"text-align: right;\">\n",
              "      <th></th>\n",
              "      <th>Age</th>\n",
              "      <th>Income</th>\n",
              "      <th>Score</th>\n",
              "      <th>Gender_Female</th>\n",
              "    </tr>\n",
              "  </thead>\n",
              "  <tbody>\n",
              "    <tr>\n",
              "      <th>0</th>\n",
              "      <td>19</td>\n",
              "      <td>15</td>\n",
              "      <td>39</td>\n",
              "      <td>0</td>\n",
              "    </tr>\n",
              "    <tr>\n",
              "      <th>1</th>\n",
              "      <td>21</td>\n",
              "      <td>15</td>\n",
              "      <td>81</td>\n",
              "      <td>0</td>\n",
              "    </tr>\n",
              "    <tr>\n",
              "      <th>2</th>\n",
              "      <td>20</td>\n",
              "      <td>16</td>\n",
              "      <td>6</td>\n",
              "      <td>1</td>\n",
              "    </tr>\n",
              "    <tr>\n",
              "      <th>3</th>\n",
              "      <td>23</td>\n",
              "      <td>16</td>\n",
              "      <td>77</td>\n",
              "      <td>1</td>\n",
              "    </tr>\n",
              "    <tr>\n",
              "      <th>4</th>\n",
              "      <td>31</td>\n",
              "      <td>17</td>\n",
              "      <td>40</td>\n",
              "      <td>1</td>\n",
              "    </tr>\n",
              "  </tbody>\n",
              "</table>\n",
              "</div>"
            ],
            "text/plain": [
              "   Age  Income  Score  Gender_Female\n",
              "0   19      15     39              0\n",
              "1   21      15     81              0\n",
              "2   20      16      6              1\n",
              "3   23      16     77              1\n",
              "4   31      17     40              1"
            ]
          },
          "metadata": {},
          "execution_count": 26
        }
      ]
    },
    {
      "cell_type": "code",
      "metadata": {
        "id": "wmFvTNxmI96J"
      },
      "source": [
        "df = df.rename(columns={'Gender_Female':'Gender'})"
      ],
      "execution_count": 27,
      "outputs": []
    },
    {
      "cell_type": "code",
      "metadata": {
        "colab": {
          "base_uri": "https://localhost:8080/",
          "height": 203
        },
        "id": "j-MHjA3DJwAV",
        "outputId": "f9461b4f-d3cd-4bc1-8b6b-f501c0d54854"
      },
      "source": [
        "df.head()"
      ],
      "execution_count": 28,
      "outputs": [
        {
          "output_type": "execute_result",
          "data": {
            "text/html": [
              "<div>\n",
              "<style scoped>\n",
              "    .dataframe tbody tr th:only-of-type {\n",
              "        vertical-align: middle;\n",
              "    }\n",
              "\n",
              "    .dataframe tbody tr th {\n",
              "        vertical-align: top;\n",
              "    }\n",
              "\n",
              "    .dataframe thead th {\n",
              "        text-align: right;\n",
              "    }\n",
              "</style>\n",
              "<table border=\"1\" class=\"dataframe\">\n",
              "  <thead>\n",
              "    <tr style=\"text-align: right;\">\n",
              "      <th></th>\n",
              "      <th>Age</th>\n",
              "      <th>Income</th>\n",
              "      <th>Score</th>\n",
              "      <th>Gender</th>\n",
              "    </tr>\n",
              "  </thead>\n",
              "  <tbody>\n",
              "    <tr>\n",
              "      <th>0</th>\n",
              "      <td>19</td>\n",
              "      <td>15</td>\n",
              "      <td>39</td>\n",
              "      <td>0</td>\n",
              "    </tr>\n",
              "    <tr>\n",
              "      <th>1</th>\n",
              "      <td>21</td>\n",
              "      <td>15</td>\n",
              "      <td>81</td>\n",
              "      <td>0</td>\n",
              "    </tr>\n",
              "    <tr>\n",
              "      <th>2</th>\n",
              "      <td>20</td>\n",
              "      <td>16</td>\n",
              "      <td>6</td>\n",
              "      <td>1</td>\n",
              "    </tr>\n",
              "    <tr>\n",
              "      <th>3</th>\n",
              "      <td>23</td>\n",
              "      <td>16</td>\n",
              "      <td>77</td>\n",
              "      <td>1</td>\n",
              "    </tr>\n",
              "    <tr>\n",
              "      <th>4</th>\n",
              "      <td>31</td>\n",
              "      <td>17</td>\n",
              "      <td>40</td>\n",
              "      <td>1</td>\n",
              "    </tr>\n",
              "  </tbody>\n",
              "</table>\n",
              "</div>"
            ],
            "text/plain": [
              "   Age  Income  Score  Gender\n",
              "0   19      15     39       0\n",
              "1   21      15     81       0\n",
              "2   20      16      6       1\n",
              "3   23      16     77       1\n",
              "4   31      17     40       1"
            ]
          },
          "metadata": {},
          "execution_count": 28
        }
      ]
    },
    {
      "cell_type": "markdown",
      "metadata": {
        "id": "P9o_SPnLJzUD"
      },
      "source": [
        "#### Here Gender = 0 indicates Male and Gender = 1 indicates Female"
      ]
    },
    {
      "cell_type": "markdown",
      "metadata": {
        "id": "piS9BBcpjip9"
      },
      "source": [
        "### **Feature Scaling**"
      ]
    },
    {
      "cell_type": "markdown",
      "metadata": {
        "id": "nkZSEczyGaE_"
      },
      "source": [
        "#### Let's scale the data before applying any clustering algorithms"
      ]
    },
    {
      "cell_type": "markdown",
      "metadata": {
        "id": "3lMovVtnMcFy"
      },
      "source": [
        "Do we scale discrete/dummy variables along with continuous variables? [Go Here](https://stats.stackexchange.com/questions/463690/multiple-regression-with-mixed-continuous-categorical-variables-dummy-coding-s)"
      ]
    },
    {
      "cell_type": "code",
      "metadata": {
        "id": "ggdG-W-BGv20"
      },
      "source": [
        "# importing the MinMaxScaler Module\n",
        "from sklearn.preprocessing import MinMaxScaler"
      ],
      "execution_count": 29,
      "outputs": []
    },
    {
      "cell_type": "code",
      "metadata": {
        "id": "9FPNMIB4G293"
      },
      "source": [
        "# Creating an object for the StandardScaler function\n",
        "X = MinMaxScaler()"
      ],
      "execution_count": 30,
      "outputs": []
    },
    {
      "cell_type": "code",
      "metadata": {
        "id": "0sySsin2G54s"
      },
      "source": [
        "scaled_df = pd.DataFrame(X.fit_transform(df),columns=df.columns)"
      ],
      "execution_count": 31,
      "outputs": []
    },
    {
      "cell_type": "code",
      "metadata": {
        "colab": {
          "base_uri": "https://localhost:8080/",
          "height": 417
        },
        "id": "TvZa5k6bG8e0",
        "outputId": "c9672fb9-637f-46cd-8861-1bbdc96c9ea2"
      },
      "source": [
        "scaled_df"
      ],
      "execution_count": 32,
      "outputs": [
        {
          "output_type": "execute_result",
          "data": {
            "text/html": [
              "<div>\n",
              "<style scoped>\n",
              "    .dataframe tbody tr th:only-of-type {\n",
              "        vertical-align: middle;\n",
              "    }\n",
              "\n",
              "    .dataframe tbody tr th {\n",
              "        vertical-align: top;\n",
              "    }\n",
              "\n",
              "    .dataframe thead th {\n",
              "        text-align: right;\n",
              "    }\n",
              "</style>\n",
              "<table border=\"1\" class=\"dataframe\">\n",
              "  <thead>\n",
              "    <tr style=\"text-align: right;\">\n",
              "      <th></th>\n",
              "      <th>Age</th>\n",
              "      <th>Income</th>\n",
              "      <th>Score</th>\n",
              "      <th>Gender</th>\n",
              "    </tr>\n",
              "  </thead>\n",
              "  <tbody>\n",
              "    <tr>\n",
              "      <th>0</th>\n",
              "      <td>0.019231</td>\n",
              "      <td>0.000000</td>\n",
              "      <td>0.387755</td>\n",
              "      <td>0.0</td>\n",
              "    </tr>\n",
              "    <tr>\n",
              "      <th>1</th>\n",
              "      <td>0.057692</td>\n",
              "      <td>0.000000</td>\n",
              "      <td>0.816327</td>\n",
              "      <td>0.0</td>\n",
              "    </tr>\n",
              "    <tr>\n",
              "      <th>2</th>\n",
              "      <td>0.038462</td>\n",
              "      <td>0.008197</td>\n",
              "      <td>0.051020</td>\n",
              "      <td>1.0</td>\n",
              "    </tr>\n",
              "    <tr>\n",
              "      <th>3</th>\n",
              "      <td>0.096154</td>\n",
              "      <td>0.008197</td>\n",
              "      <td>0.775510</td>\n",
              "      <td>1.0</td>\n",
              "    </tr>\n",
              "    <tr>\n",
              "      <th>4</th>\n",
              "      <td>0.250000</td>\n",
              "      <td>0.016393</td>\n",
              "      <td>0.397959</td>\n",
              "      <td>1.0</td>\n",
              "    </tr>\n",
              "    <tr>\n",
              "      <th>...</th>\n",
              "      <td>...</td>\n",
              "      <td>...</td>\n",
              "      <td>...</td>\n",
              "      <td>...</td>\n",
              "    </tr>\n",
              "    <tr>\n",
              "      <th>195</th>\n",
              "      <td>0.326923</td>\n",
              "      <td>0.860656</td>\n",
              "      <td>0.795918</td>\n",
              "      <td>1.0</td>\n",
              "    </tr>\n",
              "    <tr>\n",
              "      <th>196</th>\n",
              "      <td>0.519231</td>\n",
              "      <td>0.909836</td>\n",
              "      <td>0.275510</td>\n",
              "      <td>1.0</td>\n",
              "    </tr>\n",
              "    <tr>\n",
              "      <th>197</th>\n",
              "      <td>0.269231</td>\n",
              "      <td>0.909836</td>\n",
              "      <td>0.744898</td>\n",
              "      <td>0.0</td>\n",
              "    </tr>\n",
              "    <tr>\n",
              "      <th>198</th>\n",
              "      <td>0.269231</td>\n",
              "      <td>1.000000</td>\n",
              "      <td>0.173469</td>\n",
              "      <td>0.0</td>\n",
              "    </tr>\n",
              "    <tr>\n",
              "      <th>199</th>\n",
              "      <td>0.230769</td>\n",
              "      <td>1.000000</td>\n",
              "      <td>0.836735</td>\n",
              "      <td>0.0</td>\n",
              "    </tr>\n",
              "  </tbody>\n",
              "</table>\n",
              "<p>200 rows × 4 columns</p>\n",
              "</div>"
            ],
            "text/plain": [
              "          Age    Income     Score  Gender\n",
              "0    0.019231  0.000000  0.387755     0.0\n",
              "1    0.057692  0.000000  0.816327     0.0\n",
              "2    0.038462  0.008197  0.051020     1.0\n",
              "3    0.096154  0.008197  0.775510     1.0\n",
              "4    0.250000  0.016393  0.397959     1.0\n",
              "..        ...       ...       ...     ...\n",
              "195  0.326923  0.860656  0.795918     1.0\n",
              "196  0.519231  0.909836  0.275510     1.0\n",
              "197  0.269231  0.909836  0.744898     0.0\n",
              "198  0.269231  1.000000  0.173469     0.0\n",
              "199  0.230769  1.000000  0.836735     0.0\n",
              "\n",
              "[200 rows x 4 columns]"
            ]
          },
          "metadata": {},
          "execution_count": 32
        }
      ]
    },
    {
      "cell_type": "code",
      "metadata": {
        "colab": {
          "base_uri": "https://localhost:8080/",
          "height": 295
        },
        "id": "XMiO3gzqKCq3",
        "outputId": "9c0a4370-dfb3-443f-850c-ca8b98a0bc04"
      },
      "source": [
        "scaled_df.describe()"
      ],
      "execution_count": 33,
      "outputs": [
        {
          "output_type": "execute_result",
          "data": {
            "text/html": [
              "<div>\n",
              "<style scoped>\n",
              "    .dataframe tbody tr th:only-of-type {\n",
              "        vertical-align: middle;\n",
              "    }\n",
              "\n",
              "    .dataframe tbody tr th {\n",
              "        vertical-align: top;\n",
              "    }\n",
              "\n",
              "    .dataframe thead th {\n",
              "        text-align: right;\n",
              "    }\n",
              "</style>\n",
              "<table border=\"1\" class=\"dataframe\">\n",
              "  <thead>\n",
              "    <tr style=\"text-align: right;\">\n",
              "      <th></th>\n",
              "      <th>Age</th>\n",
              "      <th>Income</th>\n",
              "      <th>Score</th>\n",
              "      <th>Gender</th>\n",
              "    </tr>\n",
              "  </thead>\n",
              "  <tbody>\n",
              "    <tr>\n",
              "      <th>count</th>\n",
              "      <td>200.000000</td>\n",
              "      <td>200.000000</td>\n",
              "      <td>200.000000</td>\n",
              "      <td>200.000000</td>\n",
              "    </tr>\n",
              "    <tr>\n",
              "      <th>mean</th>\n",
              "      <td>0.400962</td>\n",
              "      <td>0.373443</td>\n",
              "      <td>0.502041</td>\n",
              "      <td>0.560000</td>\n",
              "    </tr>\n",
              "    <tr>\n",
              "      <th>std</th>\n",
              "      <td>0.268635</td>\n",
              "      <td>0.215285</td>\n",
              "      <td>0.263505</td>\n",
              "      <td>0.497633</td>\n",
              "    </tr>\n",
              "    <tr>\n",
              "      <th>min</th>\n",
              "      <td>0.000000</td>\n",
              "      <td>0.000000</td>\n",
              "      <td>0.000000</td>\n",
              "      <td>0.000000</td>\n",
              "    </tr>\n",
              "    <tr>\n",
              "      <th>25%</th>\n",
              "      <td>0.206731</td>\n",
              "      <td>0.217213</td>\n",
              "      <td>0.344388</td>\n",
              "      <td>0.000000</td>\n",
              "    </tr>\n",
              "    <tr>\n",
              "      <th>50%</th>\n",
              "      <td>0.346154</td>\n",
              "      <td>0.381148</td>\n",
              "      <td>0.500000</td>\n",
              "      <td>1.000000</td>\n",
              "    </tr>\n",
              "    <tr>\n",
              "      <th>75%</th>\n",
              "      <td>0.596154</td>\n",
              "      <td>0.516393</td>\n",
              "      <td>0.734694</td>\n",
              "      <td>1.000000</td>\n",
              "    </tr>\n",
              "    <tr>\n",
              "      <th>max</th>\n",
              "      <td>1.000000</td>\n",
              "      <td>1.000000</td>\n",
              "      <td>1.000000</td>\n",
              "      <td>1.000000</td>\n",
              "    </tr>\n",
              "  </tbody>\n",
              "</table>\n",
              "</div>"
            ],
            "text/plain": [
              "              Age      Income       Score      Gender\n",
              "count  200.000000  200.000000  200.000000  200.000000\n",
              "mean     0.400962    0.373443    0.502041    0.560000\n",
              "std      0.268635    0.215285    0.263505    0.497633\n",
              "min      0.000000    0.000000    0.000000    0.000000\n",
              "25%      0.206731    0.217213    0.344388    0.000000\n",
              "50%      0.346154    0.381148    0.500000    1.000000\n",
              "75%      0.596154    0.516393    0.734694    1.000000\n",
              "max      1.000000    1.000000    1.000000    1.000000"
            ]
          },
          "metadata": {},
          "execution_count": 33
        }
      ]
    },
    {
      "cell_type": "markdown",
      "metadata": {
        "id": "4r9lRBDAMKT-"
      },
      "source": [
        "### **Hierarchial clustering**"
      ]
    },
    {
      "cell_type": "code",
      "metadata": {
        "id": "DNKFNctQPBYK"
      },
      "source": [
        "#Importing dendrogram and linkage module\n",
        "from scipy.cluster.hierarchy import dendrogram, linkage"
      ],
      "execution_count": 34,
      "outputs": []
    },
    {
      "cell_type": "code",
      "metadata": {
        "id": "6z7_JfXYPFNE"
      },
      "source": [
        "link_method = linkage(scaled_df, method = 'ward') # Since, Ward is the most effective method for noisy data."
      ],
      "execution_count": 35,
      "outputs": []
    },
    {
      "cell_type": "code",
      "metadata": {
        "colab": {
          "base_uri": "https://localhost:8080/",
          "height": 265
        },
        "id": "uFHx3SRwPHqL",
        "outputId": "a65edb7d-ae88-4c81-820e-aa6ca5707877"
      },
      "source": [
        "dend = dendrogram(link_method)"
      ],
      "execution_count": 36,
      "outputs": [
        {
          "output_type": "display_data",
          "data": {
            "image/png": "[encoded data removed]",
            "text/plain": [
              "<Figure size 432x288 with 1 Axes>"
            ]
          },
          "metadata": {
            "needs_background": "light"
          }
        }
      ]
    },
    {
      "cell_type": "code",
      "metadata": {
        "colab": {
          "base_uri": "https://localhost:8080/",
          "height": 268
        },
        "id": "tZgsGzYrPLEE",
        "outputId": "19df2af1-47ab-41a3-ed16-cc82c60dd29d"
      },
      "source": [
        "#Cutting the Dendrogram with suitable clusters\n",
        "dend = dendrogram(link_method,\n",
        "                 truncate_mode='lastp',\n",
        "                 p = 15)"
      ],
      "execution_count": 37,
      "outputs": [
        {
          "output_type": "display_data",
          "data": {
            "image/png": "[encoded data removed]",
            "text/plain": [
              "<Figure size 432x288 with 1 Axes>"
            ]
          },
          "metadata": {
            "needs_background": "light"
          }
        }
      ]
    },
    {
      "cell_type": "markdown",
      "metadata": {
        "id": "obnoE2b8PZ7z"
      },
      "source": [
        "##### **From the dendrogram, taking the business context into consideration, we can come to a conclusion that we can form 4 clusters**"
      ]
    },
    {
      "cell_type": "code",
      "metadata": {
        "id": "bEqFHxZ6P7WF"
      },
      "source": [
        "#Importing fcluster module to create clusters\n",
        "from scipy.cluster.hierarchy import fcluster"
      ],
      "execution_count": 38,
      "outputs": []
    },
    {
      "cell_type": "code",
      "metadata": {
        "colab": {
          "base_uri": "https://localhost:8080/"
        },
        "id": "7Y-psLDYQEAm",
        "outputId": "75bba9b6-ea5d-4cc0-9a7e-34cfcd05e65d"
      },
      "source": [
        "# Setting the criterion as maxclust,then create 4 clusters, and store the result in another object 'clusters'\n",
        "\n",
        "clusters = fcluster(link_method, 4, criterion='maxclust')\n",
        "clusters"
      ],
      "execution_count": 39,
      "outputs": [
        {
          "output_type": "execute_result",
          "data": {
            "text/plain": [
              "array([4, 3, 1, 2, 1, 2, 1, 2, 4, 2, 4, 2, 1, 2, 4, 3, 1, 3, 4, 2, 4, 3,\n",
              "       1, 3, 1, 3, 1, 4, 1, 2, 4, 2, 4, 3, 1, 2, 1, 2, 1, 2, 1, 3, 4, 2,\n",
              "       1, 2, 1, 2, 2, 2, 1, 4, 2, 4, 1, 4, 1, 4, 2, 4, 4, 3, 1, 1, 4, 3,\n",
              "       1, 1, 3, 2, 4, 1, 1, 1, 4, 3, 1, 4, 2, 1, 4, 4, 4, 1, 2, 4, 1, 2,\n",
              "       2, 1, 1, 3, 4, 2, 2, 3, 1, 2, 4, 3, 2, 1, 4, 3, 4, 2, 1, 4, 4, 4,\n",
              "       4, 2, 2, 3, 2, 2, 1, 1, 1, 1, 3, 2, 2, 3, 2, 2, 4, 3, 4, 3, 4, 3,\n",
              "       2, 2, 4, 2, 1, 3, 4, 2, 1, 3, 2, 2, 4, 3, 4, 2, 1, 3, 4, 3, 1, 2,\n",
              "       1, 2, 4, 2, 4, 2, 1, 2, 4, 2, 4, 2, 4, 2, 1, 3, 4, 3, 4, 3, 1, 2,\n",
              "       4, 3, 4, 3, 1, 2, 4, 2, 1, 3, 1, 3, 1, 2, 1, 2, 4, 2, 1, 2, 1, 3,\n",
              "       4, 3], dtype=int32)"
            ]
          },
          "metadata": {},
          "execution_count": 39
        }
      ]
    },
    {
      "cell_type": "code",
      "metadata": {
        "id": "2SHrw6WBQIuZ"
      },
      "source": [
        "df['cluster'] = clusters"
      ],
      "execution_count": 40,
      "outputs": []
    },
    {
      "cell_type": "code",
      "metadata": {
        "colab": {
          "base_uri": "https://localhost:8080/",
          "height": 203
        },
        "id": "B0AoAmUcQNod",
        "outputId": "c825e3d0-4db3-4ec4-ea00-1374a55cea53"
      },
      "source": [
        "df.head()"
      ],
      "execution_count": 41,
      "outputs": [
        {
          "output_type": "execute_result",
          "data": {
            "text/html": [
              "<div>\n",
              "<style scoped>\n",
              "    .dataframe tbody tr th:only-of-type {\n",
              "        vertical-align: middle;\n",
              "    }\n",
              "\n",
              "    .dataframe tbody tr th {\n",
              "        vertical-align: top;\n",
              "    }\n",
              "\n",
              "    .dataframe thead th {\n",
              "        text-align: right;\n",
              "    }\n",
              "</style>\n",
              "<table border=\"1\" class=\"dataframe\">\n",
              "  <thead>\n",
              "    <tr style=\"text-align: right;\">\n",
              "      <th></th>\n",
              "      <th>Age</th>\n",
              "      <th>Income</th>\n",
              "      <th>Score</th>\n",
              "      <th>Gender</th>\n",
              "      <th>cluster</th>\n",
              "    </tr>\n",
              "  </thead>\n",
              "  <tbody>\n",
              "    <tr>\n",
              "      <th>0</th>\n",
              "      <td>19</td>\n",
              "      <td>15</td>\n",
              "      <td>39</td>\n",
              "      <td>0</td>\n",
              "      <td>4</td>\n",
              "    </tr>\n",
              "    <tr>\n",
              "      <th>1</th>\n",
              "      <td>21</td>\n",
              "      <td>15</td>\n",
              "      <td>81</td>\n",
              "      <td>0</td>\n",
              "      <td>3</td>\n",
              "    </tr>\n",
              "    <tr>\n",
              "      <th>2</th>\n",
              "      <td>20</td>\n",
              "      <td>16</td>\n",
              "      <td>6</td>\n",
              "      <td>1</td>\n",
              "      <td>1</td>\n",
              "    </tr>\n",
              "    <tr>\n",
              "      <th>3</th>\n",
              "      <td>23</td>\n",
              "      <td>16</td>\n",
              "      <td>77</td>\n",
              "      <td>1</td>\n",
              "      <td>2</td>\n",
              "    </tr>\n",
              "    <tr>\n",
              "      <th>4</th>\n",
              "      <td>31</td>\n",
              "      <td>17</td>\n",
              "      <td>40</td>\n",
              "      <td>1</td>\n",
              "      <td>1</td>\n",
              "    </tr>\n",
              "  </tbody>\n",
              "</table>\n",
              "</div>"
            ],
            "text/plain": [
              "   Age  Income  Score  Gender  cluster\n",
              "0   19      15     39       0        4\n",
              "1   21      15     81       0        3\n",
              "2   20      16      6       1        1\n",
              "3   23      16     77       1        2\n",
              "4   31      17     40       1        1"
            ]
          },
          "metadata": {},
          "execution_count": 41
        }
      ]
    },
    {
      "cell_type": "markdown",
      "metadata": {
        "id": "ljPkvI64UT9n"
      },
      "source": [
        "### **K-Means Clustering**"
      ]
    },
    {
      "cell_type": "code",
      "metadata": {
        "id": "H9sYs8KLV0S2"
      },
      "source": [
        "from sklearn.cluster import KMeans \n",
        "from sklearn.metrics import silhouette_samples, silhouette_score"
      ],
      "execution_count": 44,
      "outputs": []
    },
    {
      "cell_type": "markdown",
      "metadata": {
        "id": "wRYDti64V3Lh"
      },
      "source": [
        "##### Let us find the optimal value of K using Elbow curve and Silhoutte score\n",
        "\n"
      ]
    },
    {
      "cell_type": "code",
      "metadata": {
        "id": "gs3-0KYEV8vi"
      },
      "source": [
        "wss = []\n",
        "k = range(1,11)\n",
        "for i in k:\n",
        "    KM = KMeans(n_clusters=i,random_state=17)\n",
        "    KM.fit(scaled_df)\n",
        "    wss.append(KM.inertia_)"
      ],
      "execution_count": 45,
      "outputs": []
    },
    {
      "cell_type": "code",
      "metadata": {
        "colab": {
          "base_uri": "https://localhost:8080/",
          "height": 350
        },
        "id": "bIEnZYGAV_fr",
        "outputId": "9f91d35e-656f-441d-caf2-21cd3f3b97ca"
      },
      "source": [
        "plt.subplots(figsize=(8,5))\n",
        "plt.plot(k, wss, 'bx-')\n",
        "plt.xlabel('value of k')\n",
        "plt.ylabel('Within sum of squared distences (Distortion)')\n",
        "plt.title('Elbow Method For Optimal k')\n",
        "plt.show()"
      ],
      "execution_count": 46,
      "outputs": [
        {
          "output_type": "display_data",
          "data": {
            "image/png": "[encoded data removed]",
            "text/plain": [
              "<Figure size 576x360 with 1 Axes>"
            ]
          },
          "metadata": {
            "needs_background": "light"
          }
        }
      ]
    },
    {
      "cell_type": "markdown",
      "metadata": {
        "id": "-qzF26DZWCOZ"
      },
      "source": [
        "**From the elbow curve, we can see that, there is no significant drop in Distortion (within sum of squared distances) after k = 4. So the elbow curve suggests that the optimal value for k is 4. Let us also verify this by silhoutte score by taking k as 2,3,4 and 5**"
      ]
    },
    {
      "cell_type": "markdown",
      "metadata": {
        "id": "SekOBntIWSum"
      },
      "source": [
        "K=2"
      ]
    },
    {
      "cell_type": "code",
      "metadata": {
        "id": "v8tTYSUmWVcw"
      },
      "source": [
        "k_means = KMeans(n_clusters = 2,random_state=17)\n",
        "k_means.fit(scaled_df)\n",
        "labels = k_means.labels_"
      ],
      "execution_count": 47,
      "outputs": []
    },
    {
      "cell_type": "code",
      "metadata": {
        "colab": {
          "base_uri": "https://localhost:8080/"
        },
        "id": "18-8DMJRWXTp",
        "outputId": "3e5f1609-0ef9-4830-edf6-d94a50cb3c9b"
      },
      "source": [
        "# Calculating silhouette_score\n",
        "silhouette_score(scaled_df,labels,random_state=17)"
      ],
      "execution_count": 48,
      "outputs": [
        {
          "output_type": "execute_result",
          "data": {
            "text/plain": [
              "0.5194624832665107"
            ]
          },
          "metadata": {},
          "execution_count": 48
        }
      ]
    },
    {
      "cell_type": "markdown",
      "metadata": {
        "id": "YCG5J5pzWZ0q"
      },
      "source": [
        "K=3"
      ]
    },
    {
      "cell_type": "code",
      "metadata": {
        "colab": {
          "base_uri": "https://localhost:8080/"
        },
        "id": "kX8kZGmpWe7p",
        "outputId": "244eba94-793f-45de-9271-a1c44ed6b7b9"
      },
      "source": [
        "k_means = KMeans(n_clusters = 3,random_state=17)\n",
        "k_means.fit(scaled_df)\n",
        "labels = k_means.labels_\n",
        "silhouette_score(scaled_df,labels,random_state=17)"
      ],
      "execution_count": 49,
      "outputs": [
        {
          "output_type": "execute_result",
          "data": {
            "text/plain": [
              "0.45835255811254244"
            ]
          },
          "metadata": {},
          "execution_count": 49
        }
      ]
    },
    {
      "cell_type": "markdown",
      "metadata": {
        "id": "mB24DcX-Wf2Y"
      },
      "source": [
        "K=4"
      ]
    },
    {
      "cell_type": "code",
      "metadata": {
        "colab": {
          "base_uri": "https://localhost:8080/"
        },
        "id": "T8CicC7WWoxj",
        "outputId": "99353c60-0600-4dd6-d926-539302fcad77"
      },
      "source": [
        "k_means = KMeans(n_clusters = 4,random_state=17)\n",
        "k_means.fit(scaled_df)\n",
        "labels = k_means.labels_\n",
        "silhouette_score(scaled_df,labels,random_state=17)"
      ],
      "execution_count": 50,
      "outputs": [
        {
          "output_type": "execute_result",
          "data": {
            "text/plain": [
              "0.3641657522339062"
            ]
          },
          "metadata": {},
          "execution_count": 50
        }
      ]
    },
    {
      "cell_type": "markdown",
      "metadata": {
        "id": "pBO-F8e8WpYN"
      },
      "source": [
        "K=5"
      ]
    },
    {
      "cell_type": "code",
      "metadata": {
        "colab": {
          "base_uri": "https://localhost:8080/"
        },
        "id": "vRfc2LRXWvfS",
        "outputId": "54f2c52f-0182-43b7-e069-f3ae2051f792"
      },
      "source": [
        "k_means = KMeans(n_clusters = 5,random_state=17)\n",
        "k_means.fit(scaled_df)\n",
        "labels = k_means.labels_\n",
        "silhouette_score(scaled_df,labels,random_state=17)"
      ],
      "execution_count": 51,
      "outputs": [
        {
          "output_type": "execute_result",
          "data": {
            "text/plain": [
              "0.3706322619220125"
            ]
          },
          "metadata": {},
          "execution_count": 51
        }
      ]
    },
    {
      "cell_type": "code",
      "metadata": {
        "colab": {
          "base_uri": "https://localhost:8080/",
          "height": 483
        },
        "id": "XEitcmgaWw_0",
        "outputId": "c0f603b4-611b-4806-a434-db0f95524562"
      },
      "source": [
        "from yellowbrick.cluster import SilhouetteVisualizer\n",
        "\n",
        "fig, ax = plt.subplots(2, 2, figsize=(15,8))\n",
        "for i in [2, 3, 4, 5]:\n",
        "    '''\n",
        "    Create KMeans instance for different number of clusters\n",
        "    '''\n",
        "    km = KMeans(n_clusters=i, init='k-means++', n_init=10, max_iter=100, random_state=17)\n",
        "    q, mod = divmod(i, 2)\n",
        "    '''\n",
        "    Create SilhouetteVisualizer instance with KMeans instance\n",
        "    Fit the visualizer\n",
        "    '''\n",
        "    visualizer = SilhouetteVisualizer(km, colors='yellowbrick', ax=ax[q-1][mod])\n",
        "    visualizer.fit(scaled_df)\n"
      ],
      "execution_count": 52,
      "outputs": [
        {
          "output_type": "display_data",
          "data": {
            "image/png": "[encoded data removed]",
            "text/plain": [
              "<Figure size 1080x576 with 4 Axes>"
            ]
          },
          "metadata": {}
        }
      ]
    },
    {
      "cell_type": "markdown",
      "metadata": {
        "id": "E7ngbxnkYavh"
      },
      "source": [
        "**From the above plot, it is clear that K=4 clusters is optimal as the silhoutte score of all four clusters lies above the average silhouette score and the thickness of the clusters doesn't fluctuate much.**"
      ]
    },
    {
      "cell_type": "markdown",
      "metadata": {
        "id": "2ZscFPU5dKMH"
      },
      "source": [
        "#### **CLUSTER PROFILING**"
      ]
    },
    {
      "cell_type": "code",
      "metadata": {
        "colab": {
          "base_uri": "https://localhost:8080/"
        },
        "id": "XUUxBe-Ebwol",
        "outputId": "85a12451-6cf3-4592-e7cc-d3c10a4ad2b8"
      },
      "source": [
        "#Cluster Frequency\n",
        "df.cluster.value_counts().sort_index()"
      ],
      "execution_count": 53,
      "outputs": [
        {
          "output_type": "execute_result",
          "data": {
            "text/plain": [
              "1    53\n",
              "2    59\n",
              "3    36\n",
              "4    52\n",
              "Name: cluster, dtype: int64"
            ]
          },
          "metadata": {},
          "execution_count": 53
        }
      ]
    },
    {
      "cell_type": "code",
      "metadata": {
        "colab": {
          "base_uri": "https://localhost:8080/",
          "height": 203
        },
        "id": "KJFgzmL9dEWN",
        "outputId": "2dc7652e-acb4-4b62-ab8f-0d58e87e88dc"
      },
      "source": [
        "df.groupby('cluster').mean()"
      ],
      "execution_count": 54,
      "outputs": [
        {
          "output_type": "execute_result",
          "data": {
            "text/html": [
              "<div>\n",
              "<style scoped>\n",
              "    .dataframe tbody tr th:only-of-type {\n",
              "        vertical-align: middle;\n",
              "    }\n",
              "\n",
              "    .dataframe tbody tr th {\n",
              "        vertical-align: top;\n",
              "    }\n",
              "\n",
              "    .dataframe thead th {\n",
              "        text-align: right;\n",
              "    }\n",
              "</style>\n",
              "<table border=\"1\" class=\"dataframe\">\n",
              "  <thead>\n",
              "    <tr style=\"text-align: right;\">\n",
              "      <th></th>\n",
              "      <th>Age</th>\n",
              "      <th>Income</th>\n",
              "      <th>Score</th>\n",
              "      <th>Gender</th>\n",
              "    </tr>\n",
              "    <tr>\n",
              "      <th>cluster</th>\n",
              "      <th></th>\n",
              "      <th></th>\n",
              "      <th></th>\n",
              "      <th></th>\n",
              "    </tr>\n",
              "  </thead>\n",
              "  <tbody>\n",
              "    <tr>\n",
              "      <th>1</th>\n",
              "      <td>48.320755</td>\n",
              "      <td>57.754717</td>\n",
              "      <td>34.547170</td>\n",
              "      <td>1</td>\n",
              "    </tr>\n",
              "    <tr>\n",
              "      <th>2</th>\n",
              "      <td>28.915254</td>\n",
              "      <td>60.593220</td>\n",
              "      <td>66.779661</td>\n",
              "      <td>1</td>\n",
              "    </tr>\n",
              "    <tr>\n",
              "      <th>3</th>\n",
              "      <td>27.916667</td>\n",
              "      <td>65.027778</td>\n",
              "      <td>73.666667</td>\n",
              "      <td>0</td>\n",
              "    </tr>\n",
              "    <tr>\n",
              "      <th>4</th>\n",
              "      <td>48.038462</td>\n",
              "      <td>60.288462</td>\n",
              "      <td>31.096154</td>\n",
              "      <td>0</td>\n",
              "    </tr>\n",
              "  </tbody>\n",
              "</table>\n",
              "</div>"
            ],
            "text/plain": [
              "               Age     Income      Score  Gender\n",
              "cluster                                         \n",
              "1        48.320755  57.754717  34.547170       1\n",
              "2        28.915254  60.593220  66.779661       1\n",
              "3        27.916667  65.027778  73.666667       0\n",
              "4        48.038462  60.288462  31.096154       0"
            ]
          },
          "metadata": {},
          "execution_count": 54
        }
      ]
    },
    {
      "cell_type": "markdown",
      "metadata": {
        "id": "h3rAR-gydf3m"
      },
      "source": [
        "#### **Cluster Definition:**\n",
        "\n",
        "Cluster 1: \n",
        "* They have lowest average income.\n",
        "* Their score is also below average.\n",
        "* Most people having average age of 40 to 60\n",
        "* These people should be provided with discounts on less costlier things. Gift cards, gift coupons can be provided to hold these customers too\n",
        "* The shop can approach them by providing EMIs with less or 0% interest for costlier things thus encouraging them to buy things and increase sales.\n",
        "\n",
        "Cluster 2:\n",
        "* Their income is higher.\n",
        "* Their spending score is also above average.\n",
        "* People of age 20 to 40 are here\n",
        "* These people should be provided with discounts and offers to increase their spend. A good marketing strategy will also win here.\n",
        "\n",
        "Cluster 3:\n",
        "* They earn the most among all 4 clusters\n",
        "* They spend the most among all 4 clusters\n",
        "* People of age 20 to 40 are here\n",
        "* These people should be provided with rewards to appreciate their loyalty. They can be targetted to buy more costlier things\n",
        "\n",
        "Cluster 4:\n",
        "* They earn higher(above average) salary\n",
        "* But they spend the least\n",
        "* These people are able customers. They can spend much. These customers might not be serviced well. \n",
        "* So improving the quality of products and service will definitely attract these customers"
      ]
    },
    {
      "cell_type": "markdown",
      "metadata": {
        "id": "u6iZK8U-j7ql"
      },
      "source": [
        "------------------------------------------------------------------------------------------------------ ***END***-----------------------------------------------------------------------------------------------------------------"
      ]
    },
    {
      "cell_type": "code",
      "metadata": {
        "id": "Yxm-SgZyrSc3"
      },
      "source": [
        ""
      ],
      "execution_count": null,
      "outputs": []
    }
  ]
}